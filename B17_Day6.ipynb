{
 "cells": [
  {
   "cell_type": "code",
   "execution_count": null,
   "metadata": {},
   "outputs": [],
   "source": [
    "Introduction to for loops:"
   ]
  },
  {
   "cell_type": "code",
   "execution_count": null,
   "metadata": {},
   "outputs": [],
   "source": [
    "for loop will be iterating through elements"
   ]
  },
  {
   "cell_type": "code",
   "execution_count": 2,
   "metadata": {},
   "outputs": [],
   "source": [
    "my_students=['subh','sweta','nick','jack','mickey','ram']"
   ]
  },
  {
   "cell_type": "code",
   "execution_count": 3,
   "metadata": {},
   "outputs": [
    {
     "name": "stdout",
     "output_type": "stream",
     "text": [
      "['subh', 'sweta', 'nick', 'jack', 'mickey', 'ram']\n"
     ]
    }
   ],
   "source": [
    "print(my_students)"
   ]
  },
  {
   "cell_type": "code",
   "execution_count": 4,
   "metadata": {},
   "outputs": [
    {
     "data": {
      "text/plain": [
       "list"
      ]
     },
     "execution_count": 4,
     "metadata": {},
     "output_type": "execute_result"
    }
   ],
   "source": [
    "type(my_students)"
   ]
  },
  {
   "cell_type": "code",
   "execution_count": null,
   "metadata": {},
   "outputs": [],
   "source": [
    "Req 1:----->Appreciate the students\n",
    "    2.-----> I am looking forward to receive the practice files\n",
    "    3.----->Thanking note to everyone who joined the class"
   ]
  },
  {
   "cell_type": "code",
   "execution_count": 6,
   "metadata": {},
   "outputs": [
    {
     "name": "stdout",
     "output_type": "stream",
     "text": [
      "keep up the good work,Subh\n"
     ]
    }
   ],
   "source": [
    "print(f\"keep up the good work,{my_students[0].title()}\")"
   ]
  },
  {
   "cell_type": "code",
   "execution_count": 12,
   "metadata": {},
   "outputs": [
    {
     "name": "stdout",
     "output_type": "stream",
     "text": [
      "keep up the good work,subh\n",
      "keep up the good work,sweta\n",
      "keep up the good work,nick\n",
      "keep up the good work,jack\n",
      "keep up the good work,mickey\n",
      "keep up the good work,ram\n"
     ]
    }
   ],
   "source": [
    "for student in my_students:\n",
    "    print(f\"keep up the good work,{student}\")"
   ]
  },
  {
   "cell_type": "code",
   "execution_count": null,
   "metadata": {},
   "outputs": [],
   "source": []
  },
  {
   "cell_type": "code",
   "execution_count": null,
   "metadata": {},
   "outputs": [],
   "source": [
    "General syntax:\n",
    "    \n",
    "    for tempvar in mainvar\n",
    "    print(tempvar)"
   ]
  },
  {
   "cell_type": "code",
   "execution_count": null,
   "metadata": {},
   "outputs": [],
   "source": [
    "student(tempvar) in my_students(mainvar):\n",
    "    print(student(tempvar))"
   ]
  },
  {
   "cell_type": "code",
   "execution_count": 9,
   "metadata": {},
   "outputs": [
    {
     "name": "stdout",
     "output_type": "stream",
     "text": [
      "subh\n",
      "sweta\n",
      "nick\n",
      "jack\n",
      "mickey\n",
      "ram\n"
     ]
    }
   ],
   "source": [
    "for student in my_students:\n",
    "    print(student) #indentation"
   ]
  },
  {
   "cell_type": "code",
   "execution_count": null,
   "metadata": {},
   "outputs": [],
   "source": []
  },
  {
   "cell_type": "code",
   "execution_count": 10,
   "metadata": {},
   "outputs": [
    {
     "name": "stdout",
     "output_type": "stream",
     "text": [
      "subh\n",
      "sweta\n",
      "nick\n",
      "jack\n",
      "mickey\n",
      "ram\n"
     ]
    }
   ],
   "source": [
    "for ironman in my_students:\n",
    "    print(ironman)"
   ]
  },
  {
   "cell_type": "code",
   "execution_count": 17,
   "metadata": {},
   "outputs": [
    {
     "name": "stdout",
     "output_type": "stream",
     "text": [
      "keep up the good work,subh.\n",
      "I am looking forward to receive the practice files for the day,subh\n",
      "\n",
      "keep up the good work,sweta.\n",
      "I am looking forward to receive the practice files for the day,sweta\n",
      "\n",
      "keep up the good work,nick.\n",
      "I am looking forward to receive the practice files for the day,nick\n",
      "\n",
      "keep up the good work,jack.\n",
      "I am looking forward to receive the practice files for the day,jack\n",
      "\n",
      "keep up the good work,mickey.\n",
      "I am looking forward to receive the practice files for the day,mickey\n",
      "\n",
      "keep up the good work,ram.\n",
      "I am looking forward to receive the practice files for the day,ram\n",
      "\n"
     ]
    }
   ],
   "source": [
    "for student in my_students:\n",
    "   print(f\"keep up the good work,{student}.\")\n",
    "   print(f\"I am looking forward to receive the practice files for the day,{student}\\n\")"
   ]
  },
  {
   "cell_type": "code",
   "execution_count": 21,
   "metadata": {},
   "outputs": [
    {
     "name": "stdout",
     "output_type": "stream",
     "text": [
      "keep up the good work,subh.\n",
      "I am looking forward to receive the practice files for the day,subh\n",
      "\n",
      "keep up the good work,sweta.\n",
      "I am looking forward to receive the practice files for the day,sweta\n",
      "\n",
      "keep up the good work,nick.\n",
      "I am looking forward to receive the practice files for the day,nick\n",
      "\n",
      "keep up the good work,jack.\n",
      "I am looking forward to receive the practice files for the day,jack\n",
      "\n",
      "keep up the good work,mickey.\n",
      "I am looking forward to receive the practice files for the day,mickey\n",
      "\n",
      "keep up the good work,ram.\n",
      "I am looking forward to receive the practice files for the day,ram\n",
      "\n",
      "Thanks everyone for showing interest in learning python\n"
     ]
    }
   ],
   "source": [
    "for student in my_students:\n",
    "   print(f\"keep up the good work,{student}.\")\n",
    "   print(f\"I am looking forward to receive the practice files for the day,{student}\\n\")\n",
    "print('Thanks everyone for showing interest in learning python')"
   ]
  },
  {
   "cell_type": "code",
   "execution_count": null,
   "metadata": {},
   "outputs": [],
   "source": [
    "Introduction to if conditions"
   ]
  },
  {
   "cell_type": "code",
   "execution_count": null,
   "metadata": {},
   "outputs": [],
   "source": [
    "--->understanding conditional statements:"
   ]
  },
  {
   "cell_type": "code",
   "execution_count": null,
   "metadata": {},
   "outputs": [],
   "source": [
    "On occurance of an event,something would be happening---->\n",
    "event---->is rain----raining---be at home\n",
    "no rain---go out\n"
   ]
  },
  {
   "cell_type": "code",
   "execution_count": 23,
   "metadata": {},
   "outputs": [],
   "source": [
    "cars=['audi','bmw','tata','benz','toyyota','honda']"
   ]
  },
  {
   "cell_type": "code",
   "execution_count": null,
   "metadata": {},
   "outputs": [],
   "source": [
    "req: if it is bmw--->caps---BMW\n",
    "    rest all others in titlecase\n",
    "    \n",
    "    =----->assignment\n",
    "    ==---->it is used for equality testing"
   ]
  },
  {
   "cell_type": "code",
   "execution_count": 24,
   "metadata": {},
   "outputs": [
    {
     "name": "stdout",
     "output_type": "stream",
     "text": [
      "Audi\n",
      "BMW\n",
      "Tata\n",
      "Benz\n",
      "Toyyota\n",
      "Honda\n"
     ]
    }
   ],
   "source": [
    "for car in cars:\n",
    "    if car=='bmw':\n",
    "        print(car.upper())\n",
    "    else:\n",
    "        print(car.title())"
   ]
  },
  {
   "cell_type": "code",
   "execution_count": null,
   "metadata": {},
   "outputs": [],
   "source": []
  },
  {
   "cell_type": "code",
   "execution_count": null,
   "metadata": {},
   "outputs": [],
   "source": []
  }
 ],
 "metadata": {
  "kernelspec": {
   "display_name": "Python 3",
   "language": "python",
   "name": "python3"
  },
  "language_info": {
   "codemirror_mode": {
    "name": "ipython",
    "version": 3
   },
   "file_extension": ".py",
   "mimetype": "text/x-python",
   "name": "python",
   "nbconvert_exporter": "python",
   "pygments_lexer": "ipython3",
   "version": "3.7.6"
  }
 },
 "nbformat": 4,
 "nbformat_minor": 4
}
