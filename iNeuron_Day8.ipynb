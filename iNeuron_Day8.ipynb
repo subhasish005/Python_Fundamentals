{
 "cells": [
  {
   "cell_type": "markdown",
   "metadata": {},
   "source": [
    "# Exception Handling"
   ]
  },
  {
   "cell_type": "code",
   "execution_count": 8,
   "metadata": {},
   "outputs": [
    {
     "name": "stdout",
     "output_type": "stream",
     "text": [
      "My try block is working\n",
      "my try is working fine\n",
      "9\n"
     ]
    }
   ],
   "source": [
    "try:\n",
    "    #f=open(\"xyz.txt\")\n",
    "    #f.write(\"hrjghrgn\")\n",
    "    print(\"My try block is working\")\n",
    "except:\n",
    "    print(\"this file is not available\")\n",
    "else:\n",
    "    print(\"my try is working fine\")\n",
    "finally:\n",
    "    f=open(\"xyz.txt\")\n",
    "    print(4+5)\n",
    "    \n"
   ]
  },
  {
   "cell_type": "code",
   "execution_count": 13,
   "metadata": {},
   "outputs": [
    {
     "name": "stdout",
     "output_type": "stream",
     "text": [
      "my try is working fine\n",
      "9\n",
      "[Errno 2] No such file or directory: 'bvfg.txt'\n"
     ]
    }
   ],
   "source": [
    "try:\n",
    "    #f=open(\"xyz.txt\")\n",
    "    #f.write(\"hrjghrgn\")\n",
    "    4+5\n",
    "except:\n",
    "    print(\"this file is not available\")\n",
    "else:\n",
    "    print(\"my try is working fine\")\n",
    "finally:\n",
    "    print(4+5)\n",
    "    try:\n",
    "         f=open(\"bvfg.txt\")\n",
    "    except Exception as e:\n",
    "        print (e)\n",
    "    "
   ]
  },
  {
   "cell_type": "code",
   "execution_count": 25,
   "metadata": {},
   "outputs": [],
   "source": [
    "def askint():\n",
    "    try:\n",
    "        v=int(input(\"Please try to enter and integer\"))\n",
    "    except Exception as e:\n",
    "        print(e)\n",
    "    finally:\n",
    "        print(\"this is a finally block; so it will be executed\")\n",
    "        try:\n",
    "            print(v)\n",
    "        except Exception as e:\n",
    "            print(e)\n",
    "        else:\n",
    "            print(\" I have a valid value of v\")"
   ]
  },
  {
   "cell_type": "code",
   "execution_count": 26,
   "metadata": {},
   "outputs": [
    {
     "name": "stdout",
     "output_type": "stream",
     "text": [
      "Please try to enter and integer4\n",
      "this is a finally block; so it will be executed\n",
      "4\n",
      " I have a valid value of v\n"
     ]
    }
   ],
   "source": [
    "askint()"
   ]
  },
  {
   "cell_type": "code",
   "execution_count": 17,
   "metadata": {},
   "outputs": [
    {
     "name": "stdout",
     "output_type": "stream",
     "text": [
      "Please try to enter and integerk7y67k\n"
     ]
    },
    {
     "ename": "ValueError",
     "evalue": "invalid literal for int() with base 10: 'k7y67k'",
     "output_type": "error",
     "traceback": [
      "\u001b[1;31m---------------------------------------------------------------------------\u001b[0m",
      "\u001b[1;31mValueError\u001b[0m                                Traceback (most recent call last)",
      "\u001b[1;32m<ipython-input-17-d1119cd71a7d>\u001b[0m in \u001b[0;36m<module>\u001b[1;34m\u001b[0m\n\u001b[1;32m----> 1\u001b[1;33m \u001b[0mv\u001b[0m\u001b[1;33m=\u001b[0m\u001b[0mint\u001b[0m\u001b[1;33m(\u001b[0m\u001b[0minput\u001b[0m\u001b[1;33m(\u001b[0m\u001b[1;34m\"Please try to enter and integer\"\u001b[0m\u001b[1;33m)\u001b[0m\u001b[1;33m)\u001b[0m\u001b[1;33m\u001b[0m\u001b[1;33m\u001b[0m\u001b[0m\n\u001b[0m",
      "\u001b[1;31mValueError\u001b[0m: invalid literal for int() with base 10: 'k7y67k'"
     ]
    }
   ],
   "source": [
    "v=int(input(\"Please try to enter and integer\"))"
   ]
  },
  {
   "cell_type": "code",
   "execution_count": null,
   "metadata": {},
   "outputs": [],
   "source": [
    "def askint2():\n",
    "    while True:\n",
    "        \n",
    "        try:\n",
    "            v=int(input(\"Please try to enter and integer\"))\n",
    "        except Exception as e:\n",
    "            print(e)\n",
    "            continue\n",
    "        finally:\n",
    "            print(\"this is a finally block; so it will be executed\")"
   ]
  },
  {
   "cell_type": "code",
   "execution_count": null,
   "metadata": {},
   "outputs": [],
   "source": [
    "askint2()"
   ]
  },
  {
   "cell_type": "code",
   "execution_count": 8,
   "metadata": {},
   "outputs": [],
   "source": [
    "def askint3():\n",
    "    while True:\n",
    "        \n",
    "        try:\n",
    "            v=int(input(\"Please try to enter and integer\"))\n",
    "        except Exception as e:\n",
    "            print(e)\n",
    "            continue\n",
    "        else:\n",
    "                print(\"yes I am able to get an integer\")\n",
    "                break\n",
    "        finally:\n",
    "            print(\"this is a finally block; so it will be executed for sure\")\n",
    "    print(v)"
   ]
  },
  {
   "cell_type": "code",
   "execution_count": 9,
   "metadata": {},
   "outputs": [
    {
     "name": "stdout",
     "output_type": "stream",
     "text": [
      "Please try to enter and integererge\n",
      "invalid literal for int() with base 10: 'erge'\n",
      "this is a finally block; so it will be executed for sure\n",
      "Please try to enter and integerwegerwg\n",
      "invalid literal for int() with base 10: 'wegerwg'\n",
      "this is a finally block; so it will be executed for sure\n",
      "Please try to enter and integer34\n",
      "yes I am able to get an integer\n",
      "this is a finally block; so it will be executed for sure\n",
      "34\n"
     ]
    }
   ],
   "source": [
    "askint3()"
   ]
  },
  {
   "cell_type": "code",
   "execution_count": 12,
   "metadata": {},
   "outputs": [
    {
     "name": "stdout",
     "output_type": "stream",
     "text": [
      "There is an error in my code\n"
     ]
    }
   ],
   "source": [
    "try:\n",
    "    f=open('nbm.txt')\n",
    "    f.write(\"my name is subh\")\n",
    "except IOError:\n",
    "    print(\"There is an error in my code\")"
   ]
  },
  {
   "cell_type": "code",
   "execution_count": 13,
   "metadata": {},
   "outputs": [
    {
     "ename": "FileNotFoundError",
     "evalue": "[Errno 2] No such file or directory: 'nbm.txt'",
     "output_type": "error",
     "traceback": [
      "\u001b[1;31m---------------------------------------------------------------------------\u001b[0m",
      "\u001b[1;31mFileNotFoundError\u001b[0m                         Traceback (most recent call last)",
      "\u001b[1;32m<ipython-input-13-44bec4dff4f0>\u001b[0m in \u001b[0;36m<module>\u001b[1;34m\u001b[0m\n\u001b[0;32m      1\u001b[0m \u001b[1;32mtry\u001b[0m\u001b[1;33m:\u001b[0m\u001b[1;33m\u001b[0m\u001b[1;33m\u001b[0m\u001b[0m\n\u001b[1;32m----> 2\u001b[1;33m     \u001b[0mf\u001b[0m\u001b[1;33m=\u001b[0m\u001b[0mopen\u001b[0m\u001b[1;33m(\u001b[0m\u001b[1;34m'nbm.txt'\u001b[0m\u001b[1;33m)\u001b[0m\u001b[1;33m\u001b[0m\u001b[1;33m\u001b[0m\u001b[0m\n\u001b[0m\u001b[0;32m      3\u001b[0m     \u001b[0mf\u001b[0m\u001b[1;33m.\u001b[0m\u001b[0mwrite\u001b[0m\u001b[1;33m(\u001b[0m\u001b[1;34m\"my name is subh\"\u001b[0m\u001b[1;33m)\u001b[0m\u001b[1;33m\u001b[0m\u001b[1;33m\u001b[0m\u001b[0m\n\u001b[0;32m      4\u001b[0m \u001b[1;32mexcept\u001b[0m \u001b[0mValueError\u001b[0m\u001b[1;33m:\u001b[0m\u001b[1;33m\u001b[0m\u001b[1;33m\u001b[0m\u001b[0m\n\u001b[0;32m      5\u001b[0m     \u001b[0mprint\u001b[0m\u001b[1;33m(\u001b[0m\u001b[1;34m\"There is an error in my code\"\u001b[0m\u001b[1;33m)\u001b[0m\u001b[1;33m\u001b[0m\u001b[1;33m\u001b[0m\u001b[0m\n",
      "\u001b[1;31mFileNotFoundError\u001b[0m: [Errno 2] No such file or directory: 'nbm.txt'"
     ]
    }
   ],
   "source": [
    "try:\n",
    "    f=open('nbm.txt')\n",
    "    f.write(\"my name is subh\")\n",
    "except ValueError:\n",
    "    print(\"There is an error in my code\")"
   ]
  },
  {
   "cell_type": "code",
   "execution_count": 14,
   "metadata": {},
   "outputs": [
    {
     "name": "stdout",
     "output_type": "stream",
     "text": [
      "There is an error in my code\n"
     ]
    }
   ],
   "source": [
    "try:\n",
    "    f=open('nbm.txt')\n",
    "    f.write(\"my name is subh\")\n",
    "except FileExistsError as e:\n",
    "    print(e)\n",
    "except IOError:\n",
    "    print(\"There is an error in my code\")"
   ]
  },
  {
   "cell_type": "code",
   "execution_count": 16,
   "metadata": {},
   "outputs": [
    {
     "name": "stdout",
     "output_type": "stream",
     "text": [
      "this is an IO error\n"
     ]
    }
   ],
   "source": [
    "try:\n",
    "    f=open('nbm.txt')\n",
    "    f.write(\"my name is subh\")\n",
    "except FileExistsError as e:\n",
    "    print(e)\n",
    "except ValueError:\n",
    "    print(\"There is an error in my code\")\n",
    "except IOError:\n",
    "    print(\"this is an IO error\")\n",
    "except OSError:\n",
    "    print(\"this is an OS error\")\n",
    "except Exception as e:\n",
    "    print(\"This is the superclass of all errors\")"
   ]
  },
  {
   "cell_type": "code",
   "execution_count": 19,
   "metadata": {},
   "outputs": [
    {
     "name": "stdout",
     "output_type": "stream",
     "text": [
      "this is an OS error\n"
     ]
    }
   ],
   "source": [
    "try:\n",
    "    f=open('nbm.txt')\n",
    "    f.write(\"my name is subh\")\n",
    "except FileExistsError as e:\n",
    "    print(e)\n",
    "except ValueError:\n",
    "    print(\"There is an error in my code\")\n",
    "except FileNotFoundError:\n",
    "    print(\"This is file not found error\")\n",
    "except OSError:\n",
    "    print(\"this is an OS error\")\n",
    "except IOError:\n",
    "    print(\"this is an IO error\")\n",
    "except Exception as e:\n",
    "    print(\"This is the superclass of all errors\")"
   ]
  },
  {
   "cell_type": "code",
   "execution_count": 22,
   "metadata": {},
   "outputs": [
    {
     "name": "stdout",
     "output_type": "stream",
     "text": [
      "there is an error in this code\n"
     ]
    }
   ],
   "source": [
    "try:\n",
    "    f=open(\"subh.txt\")\n",
    "    f.write(\"gvebrb\")\n",
    "except(OSError,FileExistsError,FileNotFoundError,ValueError,Exception):\n",
    "    print(\"there is an error in this code\")"
   ]
  },
  {
   "cell_type": "code",
   "execution_count": 28,
   "metadata": {},
   "outputs": [
    {
     "name": "stdout",
     "output_type": "stream",
     "text": [
      "Please try to enter and integer2\n",
      "this is not an integer I was looking for\n"
     ]
    }
   ],
   "source": [
    "try:\n",
    "    b=int(input(\"Please try to enter and integer\"))\n",
    "    k=56/b\n",
    "    if b == 2 :\n",
    "        raise ValueError(\"this is not an integer I was looking for\")\n",
    "except ValueError as e:\n",
    "    print(e)"
   ]
  },
  {
   "cell_type": "code",
   "execution_count": 29,
   "metadata": {},
   "outputs": [],
   "source": [
    "import sqlite3"
   ]
  },
  {
   "cell_type": "code",
   "execution_count": 31,
   "metadata": {},
   "outputs": [],
   "source": [
    "c=sqlite3.connect(\"Subhasish\")"
   ]
  },
  {
   "cell_type": "code",
   "execution_count": 32,
   "metadata": {},
   "outputs": [
    {
     "data": {
      "text/plain": [
       "<sqlite3.Cursor at 0x36ed3e0>"
      ]
     },
     "execution_count": 32,
     "metadata": {},
     "output_type": "execute_result"
    }
   ],
   "source": [
    "c.execute('drop table if exists Subhasish')"
   ]
  },
  {
   "cell_type": "code",
   "execution_count": 33,
   "metadata": {},
   "outputs": [
    {
     "data": {
      "text/plain": [
       "<sqlite3.Cursor at 0x6389f20>"
      ]
     },
     "execution_count": 33,
     "metadata": {},
     "output_type": "execute_result"
    }
   ],
   "source": [
    "c.execute(\"create table Subhasish(id int,name text,score int)\")"
   ]
  },
  {
   "cell_type": "code",
   "execution_count": 35,
   "metadata": {},
   "outputs": [
    {
     "data": {
      "text/plain": [
       "'C:\\\\Users\\\\HP'"
      ]
     },
     "execution_count": 35,
     "metadata": {},
     "output_type": "execute_result"
    }
   ],
   "source": [
    "pwd()"
   ]
  },
  {
   "cell_type": "code",
   "execution_count": null,
   "metadata": {},
   "outputs": [],
   "source": [
    "c.execute(\"insert into Subhasish(id,name,score) values (345,'Subh1',656756767)\")\n",
    "c.execute(\"insert into Subhasish(id,name,score) values (346,'Subh2',656756768)\")\n",
    "c.execute(\"insert into Subhasish(id,name,score) values (347,'Subh3',656756769)\")\n",
    "c.execute(\"insert into Subhasish(id,name,score) values (348,'Subh4',656756761)\")\n",
    "c.execute(\"insert into Subhasish(id,name,score) values (349,'Subh5',656756762)\")\n",
    "c.execute(\"insert into Subhasish(id,name,score) values (341,'Subh6',656756763)\")"
   ]
  },
  {
   "cell_type": "code",
   "execution_count": 37,
   "metadata": {},
   "outputs": [],
   "source": [
    "c.commit()"
   ]
  },
  {
   "cell_type": "code",
   "execution_count": 38,
   "metadata": {},
   "outputs": [
    {
     "data": {
      "text/plain": [
       "[(345, 'Subh1', 656756767),\n",
       " (346, 'Subh2', 656756768),\n",
       " (347, 'Subh3', 656756769),\n",
       " (348, 'Subh4', 656756761),\n",
       " (349, 'Subh5', 656756762),\n",
       " (341, 'Subh6', 656756763)]"
      ]
     },
     "execution_count": 38,
     "metadata": {},
     "output_type": "execute_result"
    }
   ],
   "source": [
    "list(c.execute(\"select * from Subhasish\"))"
   ]
  },
  {
   "cell_type": "code",
   "execution_count": 39,
   "metadata": {},
   "outputs": [
    {
     "data": {
      "text/plain": [
       "tuple"
      ]
     },
     "execution_count": 39,
     "metadata": {},
     "output_type": "execute_result"
    }
   ],
   "source": [
    "type(list(c.execute(\"select * from Subhasish\"))[0])"
   ]
  },
  {
   "cell_type": "code",
   "execution_count": 40,
   "metadata": {},
   "outputs": [
    {
     "name": "stdout",
     "output_type": "stream",
     "text": [
      "(345, 'Subh1', 656756767)\n",
      "(346, 'Subh2', 656756768)\n",
      "(347, 'Subh3', 656756769)\n",
      "(348, 'Subh4', 656756761)\n",
      "(349, 'Subh5', 656756762)\n",
      "(341, 'Subh6', 656756763)\n"
     ]
    }
   ],
   "source": [
    "for i in c.execute(\"select * from Subhasish\"):\n",
    "    print(i)"
   ]
  },
  {
   "cell_type": "code",
   "execution_count": 41,
   "metadata": {},
   "outputs": [
    {
     "name": "stdout",
     "output_type": "stream",
     "text": [
      "(341, 'Subh6', 656756763)\n",
      "(345, 'Subh1', 656756767)\n",
      "(346, 'Subh2', 656756768)\n",
      "(347, 'Subh3', 656756769)\n",
      "(348, 'Subh4', 656756761)\n",
      "(349, 'Subh5', 656756762)\n"
     ]
    }
   ],
   "source": [
    "for i in c.execute(\"select * from Subhasish order by id\"):\n",
    "    print(i)"
   ]
  },
  {
   "cell_type": "code",
   "execution_count": 42,
   "metadata": {},
   "outputs": [
    {
     "name": "stdout",
     "output_type": "stream",
     "text": [
      "(348, 'Subh4', 656756761)\n"
     ]
    }
   ],
   "source": [
    "for i in c.execute(\"select * from Subhasish where name='Subh4'\"):\n",
    "    print(i)"
   ]
  },
  {
   "cell_type": "code",
   "execution_count": null,
   "metadata": {},
   "outputs": [],
   "source": []
  },
  {
   "cell_type": "code",
   "execution_count": null,
   "metadata": {},
   "outputs": [],
   "source": []
  },
  {
   "cell_type": "code",
   "execution_count": null,
   "metadata": {},
   "outputs": [],
   "source": []
  },
  {
   "cell_type": "code",
   "execution_count": null,
   "metadata": {},
   "outputs": [],
   "source": []
  },
  {
   "cell_type": "code",
   "execution_count": null,
   "metadata": {},
   "outputs": [],
   "source": []
  },
  {
   "cell_type": "code",
   "execution_count": null,
   "metadata": {},
   "outputs": [],
   "source": []
  },
  {
   "cell_type": "code",
   "execution_count": null,
   "metadata": {},
   "outputs": [],
   "source": []
  },
  {
   "cell_type": "code",
   "execution_count": null,
   "metadata": {},
   "outputs": [],
   "source": []
  },
  {
   "cell_type": "code",
   "execution_count": null,
   "metadata": {},
   "outputs": [],
   "source": []
  },
  {
   "cell_type": "code",
   "execution_count": null,
   "metadata": {},
   "outputs": [],
   "source": []
  },
  {
   "cell_type": "code",
   "execution_count": null,
   "metadata": {},
   "outputs": [],
   "source": []
  },
  {
   "cell_type": "code",
   "execution_count": null,
   "metadata": {},
   "outputs": [],
   "source": []
  },
  {
   "cell_type": "code",
   "execution_count": null,
   "metadata": {},
   "outputs": [],
   "source": []
  },
  {
   "cell_type": "code",
   "execution_count": null,
   "metadata": {},
   "outputs": [],
   "source": []
  },
  {
   "cell_type": "code",
   "execution_count": null,
   "metadata": {},
   "outputs": [],
   "source": []
  },
  {
   "cell_type": "code",
   "execution_count": null,
   "metadata": {},
   "outputs": [],
   "source": []
  },
  {
   "cell_type": "code",
   "execution_count": null,
   "metadata": {},
   "outputs": [],
   "source": []
  },
  {
   "cell_type": "code",
   "execution_count": null,
   "metadata": {},
   "outputs": [],
   "source": []
  },
  {
   "cell_type": "code",
   "execution_count": null,
   "metadata": {},
   "outputs": [],
   "source": []
  },
  {
   "cell_type": "code",
   "execution_count": null,
   "metadata": {},
   "outputs": [],
   "source": []
  },
  {
   "cell_type": "code",
   "execution_count": null,
   "metadata": {},
   "outputs": [],
   "source": []
  },
  {
   "cell_type": "code",
   "execution_count": null,
   "metadata": {},
   "outputs": [],
   "source": []
  },
  {
   "cell_type": "code",
   "execution_count": null,
   "metadata": {},
   "outputs": [],
   "source": []
  },
  {
   "cell_type": "code",
   "execution_count": null,
   "metadata": {},
   "outputs": [],
   "source": []
  },
  {
   "cell_type": "code",
   "execution_count": null,
   "metadata": {},
   "outputs": [],
   "source": []
  },
  {
   "cell_type": "code",
   "execution_count": null,
   "metadata": {},
   "outputs": [],
   "source": []
  },
  {
   "cell_type": "code",
   "execution_count": null,
   "metadata": {},
   "outputs": [],
   "source": []
  },
  {
   "cell_type": "code",
   "execution_count": null,
   "metadata": {},
   "outputs": [],
   "source": []
  },
  {
   "cell_type": "code",
   "execution_count": null,
   "metadata": {},
   "outputs": [],
   "source": []
  },
  {
   "cell_type": "code",
   "execution_count": null,
   "metadata": {},
   "outputs": [],
   "source": []
  },
  {
   "cell_type": "code",
   "execution_count": null,
   "metadata": {},
   "outputs": [],
   "source": []
  },
  {
   "cell_type": "code",
   "execution_count": null,
   "metadata": {},
   "outputs": [],
   "source": []
  },
  {
   "cell_type": "code",
   "execution_count": null,
   "metadata": {},
   "outputs": [],
   "source": []
  },
  {
   "cell_type": "code",
   "execution_count": null,
   "metadata": {},
   "outputs": [],
   "source": []
  },
  {
   "cell_type": "code",
   "execution_count": null,
   "metadata": {},
   "outputs": [],
   "source": []
  },
  {
   "cell_type": "code",
   "execution_count": null,
   "metadata": {},
   "outputs": [],
   "source": []
  },
  {
   "cell_type": "code",
   "execution_count": null,
   "metadata": {},
   "outputs": [],
   "source": []
  },
  {
   "cell_type": "code",
   "execution_count": null,
   "metadata": {},
   "outputs": [],
   "source": []
  },
  {
   "cell_type": "code",
   "execution_count": null,
   "metadata": {},
   "outputs": [],
   "source": []
  },
  {
   "cell_type": "code",
   "execution_count": null,
   "metadata": {},
   "outputs": [],
   "source": []
  }
 ],
 "metadata": {
  "kernelspec": {
   "display_name": "Python 3",
   "language": "python",
   "name": "python3"
  },
  "language_info": {
   "codemirror_mode": {
    "name": "ipython",
    "version": 3
   },
   "file_extension": ".py",
   "mimetype": "text/x-python",
   "name": "python",
   "nbconvert_exporter": "python",
   "pygments_lexer": "ipython3",
   "version": "3.7.6"
  }
 },
 "nbformat": 4,
 "nbformat_minor": 4
}
